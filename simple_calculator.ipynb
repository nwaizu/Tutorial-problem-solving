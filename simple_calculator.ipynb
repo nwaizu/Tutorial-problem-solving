{
 "cells": [
  {
   "cell_type": "code",
   "execution_count": null,
   "id": "dc7c0f5c",
   "metadata": {},
   "outputs": [],
   "source": [
    "# Simple Calculator\n",
    "num1 = float(input(\"Input 1st number: \"))\n",
    "num2 = float(input(\"Input 2nd number: \"))\n",
    "\n",
    "def add(num1, num2):\n",
    "    ans = num1 + num2\n",
    "    return ans \n",
    "\n",
    "\n",
    "def sub(num1, num2):\n",
    "    ans = num1 - num2\n",
    "    return ans\n",
    "\n",
    "\n",
    "def add(num1, num2):\n",
    "    ans = num1 + num2\n",
    "    return ans\n",
    "\n",
    "\n",
    "def mul(num1, num2):\n",
    "    ans = num1 * num2\n",
    "    return ans\n",
    "\n",
    "\n",
    "def div(num1, num2):\n",
    "    ans = num1 / num2\n",
    "    return ans\n",
    "\n",
    "\n",
    "Operation = str(input(\n",
    "    \"What operation do you want to carry out?:\\n('add'- addition)\\n('sub'- subtraction)\\n('mul'-multiplication)\\n('div'-division)\"\n",
    "))\n",
    "if (Operation == \"add\"):\n",
    "        print(add(num1, num2))\n",
    "elif (Operation == \"sub\"):\n",
    "        print(sub(num1, num2))\n",
    "elif (Operaton == \"mul\"):\n",
    "        print(mul(num1, num2))\n",
    "elif (Operation == \"div\"):\n",
    "        print(div(num1, num2))\n",
    "else:\n",
    "        print(\"Error not a valid operation.\")\n",
    "        "
   ]
  }
 ],
 "metadata": {
  "kernelspec": {
   "display_name": "Python 3 (ipykernel)",
   "language": "python",
   "name": "python3"
  },
  "language_info": {
   "codemirror_mode": {
    "name": "ipython",
    "version": 3
   },
   "file_extension": ".py",
   "mimetype": "text/x-python",
   "name": "python",
   "nbconvert_exporter": "python",
   "pygments_lexer": "ipython3",
   "version": "3.10.9"
  }
 },
 "nbformat": 4,
 "nbformat_minor": 5
}
